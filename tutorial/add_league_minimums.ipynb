{
 "cells": [
  {
   "cell_type": "markdown",
   "metadata": {},
   "source": [
    "### Add League Minimums\n",
    "\n",
    "This file contains code to create a league_in column and a salary_over_league_min column.\n",
    "Basically a scratchpad file"
   ]
  },
  {
   "cell_type": "code",
   "execution_count": 1,
   "metadata": {
    "collapsed": true
   },
   "outputs": [],
   "source": [
    "import pickle\n",
    "import pandas as pd\n",
    "import numpy as np\n",
    "%matplotlib inline\n",
    "\n",
    "pitcher_filename = '02_oct_cleaned_pickled_pitcher_data.pkl'\n",
    "batter_filename = '02_oct_cleaned_pickled_batter_data.pkl'\n",
    "\n",
    "with open(pitcher_filename, 'rb') as f_obj:\n",
    "    p = pd.DataFrame(pickle.load(f_obj))\n",
    "p = p.dropna()\n",
    "\n",
    "with open(batter_filename, 'rb') as f_obj:\n",
    "    b = pd.DataFrame(pickle.load(f_obj))\n",
    "b = b.dropna()"
   ]
  },
  {
   "cell_type": "code",
   "execution_count": 2,
   "metadata": {},
   "outputs": [
    {
     "data": {
      "text/plain": [
       "2000000.0     86\n",
       "3000000.0     81\n",
       "1000000.0     76\n",
       "4000000.0     73\n",
       "1500000.0     62\n",
       "500000.0      55\n",
       "6000000.0     49\n",
       "7000000.0     49\n",
       "750000.0      49\n",
       "5000000.0     48\n",
       "2500000.0     47\n",
       "4500000.0     40\n",
       "8000000.0     38\n",
       "9000000.0     35\n",
       "10000000.0    35\n",
       "800000.0      34\n",
       "1200000.0     34\n",
       "600000.0      34\n",
       "3500000.0     32\n",
       "5500000.0     32\n",
       "850000.0      30\n",
       "400000.0      29\n",
       "1250000.0     29\n",
       "1750000.0     29\n",
       "900000.0      28\n",
       "1400000.0     27\n",
       "4250000.0     27\n",
       "2250000.0     26\n",
       "11000000.0    25\n",
       "2750000.0     25\n",
       "              ..\n",
       "5686000.0      1\n",
       "2937500.0      1\n",
       "2470667.0      1\n",
       "515179.0       1\n",
       "7437500.0      1\n",
       "4410000.0      1\n",
       "4966667.0      1\n",
       "770000.0       1\n",
       "2675000.0      1\n",
       "6886052.0      1\n",
       "524900.0       1\n",
       "441500.0       1\n",
       "277500.0       1\n",
       "21833333.0     1\n",
       "563500.0       1\n",
       "433300.0       1\n",
       "5065000.0      1\n",
       "326800.0       1\n",
       "907500.0       1\n",
       "547100.0       1\n",
       "5687500.0      1\n",
       "523400.0       1\n",
       "416900.0       1\n",
       "3023894.0      1\n",
       "3925000.0      1\n",
       "515200.0       1\n",
       "1840000.0      1\n",
       "280000.0       1\n",
       "5425000.0      1\n",
       "343000.0       1\n",
       "Name: salary, Length: 1120, dtype: int64"
      ]
     },
     "execution_count": 2,
     "metadata": {},
     "output_type": "execute_result"
    }
   ],
   "source": [
    "p.salary.value_counts()"
   ]
  },
  {
   "cell_type": "code",
   "execution_count": 3,
   "metadata": {
    "collapsed": true
   },
   "outputs": [],
   "source": [
    "# Data on league minimum by year, in dictionary format.\n",
    "\n",
    "lm_dict = {\n",
    "            2000: 200000,\n",
    "            2001: 300000,\n",
    "            2002: 300000,\n",
    "            2003: 300000,\n",
    "            2004: 316000,\n",
    "            2005: 327000,\n",
    "            2006: 380000,\n",
    "            2007: 390000,\n",
    "            2008: 400000,\n",
    "            2009: 400000,\n",
    "            2010: 414000,\n",
    "            2011: 480000,\n",
    "            2012: 480000,\n",
    "            2013: 480000,\n",
    "            2014: 507500,\n",
    "            2015: 507500,\n",
    "            2016: 535000,\n",
    "            2017: 545000\n",
    "            }"
   ]
  },
  {
   "cell_type": "code",
   "execution_count": 4,
   "metadata": {},
   "outputs": [
    {
     "name": "stderr",
     "output_type": "stream",
     "text": [
      "/Users/davidoxnard/anaconda/lib/python3.6/site-packages/pandas/core/indexing.py:179: SettingWithCopyWarning: \n",
      "A value is trying to be set on a copy of a slice from a DataFrame\n",
      "\n",
      "See the caveats in the documentation: http://pandas.pydata.org/pandas-docs/stable/indexing.html#indexing-view-versus-copy\n",
      "  self._setitem_with_indexer(indexer, value)\n"
     ]
    }
   ],
   "source": [
    "p['league_min'] = np.zeros(p.shape[0])\n",
    "\n",
    "for year_, salary_ in lm_dict.items():\n",
    "    p.league_min.loc[p.year == year_] = salary_"
   ]
  },
  {
   "cell_type": "code",
   "execution_count": 5,
   "metadata": {
    "collapsed": true
   },
   "outputs": [],
   "source": [
    "p['salary_over_minimum'] = p['salary'] - p['league_min']"
   ]
  },
  {
   "cell_type": "code",
   "execution_count": 23,
   "metadata": {},
   "outputs": [
    {
     "name": "stderr",
     "output_type": "stream",
     "text": [
      "/Users/davidoxnard/anaconda/lib/python3.6/site-packages/pandas/core/indexing.py:179: SettingWithCopyWarning: \n",
      "A value is trying to be set on a copy of a slice from a DataFrame\n",
      "\n",
      "See the caveats in the documentation: http://pandas.pydata.org/pandas-docs/stable/indexing.html#indexing-view-versus-copy\n",
      "  self._setitem_with_indexer(indexer, value)\n"
     ]
    }
   ],
   "source": [
    "threshold = 10000\n",
    "\n",
    "p['player_at_min'] = np.zeros(p.shape[0])\n",
    "p.player_at_min.loc[p.salary_over_minimum <= threshold] = 1"
   ]
  },
  {
   "cell_type": "code",
   "execution_count": 25,
   "metadata": {},
   "outputs": [
    {
     "data": {
      "text/plain": [
       "0.0    3441\n",
       "1.0     596\n",
       "Name: player_at_min, dtype: int64"
      ]
     },
     "execution_count": 25,
     "metadata": {},
     "output_type": "execute_result"
    }
   ],
   "source": [
    "# Some resulting delta vaules are negative -- should drop them.\n",
    "p.player_at_min.value_counts()"
   ]
  },
  {
   "cell_type": "markdown",
   "metadata": {},
   "source": [
    "### Now, for batters:"
   ]
  },
  {
   "cell_type": "code",
   "execution_count": null,
   "metadata": {
    "collapsed": true
   },
   "outputs": [],
   "source": [
    "b['league_min'] = np.zeros(b.shape[0])\n",
    "\n",
    "for year_, salary_ in lm_dict.items():\n",
    "    b.loc[b.year == year_] = salary_"
   ]
  },
  {
   "cell_type": "code",
   "execution_count": null,
   "metadata": {},
   "outputs": [],
   "source": [
    "b['salary_over_minimum'] = b['salary'] - b['league_min']"
   ]
  },
  {
   "cell_type": "code",
   "execution_count": null,
   "metadata": {
    "collapsed": true
   },
   "outputs": [],
   "source": []
  }
 ],
 "metadata": {
  "kernelspec": {
   "display_name": "Python 3",
   "language": "python",
   "name": "python3"
  },
  "language_info": {
   "codemirror_mode": {
    "name": "ipython",
    "version": 3
   },
   "file_extension": ".py",
   "mimetype": "text/x-python",
   "name": "python",
   "nbconvert_exporter": "python",
   "pygments_lexer": "ipython3",
   "version": "3.6.1"
  }
 },
 "nbformat": 4,
 "nbformat_minor": 2
}
