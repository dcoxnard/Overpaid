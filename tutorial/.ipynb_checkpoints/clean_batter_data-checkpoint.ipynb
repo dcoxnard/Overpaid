{
 "cells": [
  {
   "cell_type": "code",
   "execution_count": 1,
   "metadata": {
    "collapsed": true
   },
   "outputs": [],
   "source": [
    "import pandas as pd\n",
    "import matplotlib.pyplot as plt\n",
    "import seaborn as sns\n",
    "import numpy as np\n",
    "from statsmodels.formula import api as sm\n",
    "%matplotlib inline"
   ]
  },
  {
   "cell_type": "code",
   "execution_count": 4,
   "metadata": {},
   "outputs": [
    {
     "data": {
      "text/plain": [
       "Index(['age', 'avg', 'hr', 'obp', 'ops', 'player_name', 'position', 'rbi',\n",
       "       'salary', 'slg', 'team', 'war', 'year'],\n",
       "      dtype='object')"
      ]
     },
     "execution_count": 4,
     "metadata": {},
     "output_type": "execute_result"
    }
   ],
   "source": [
    "# Read json data on batting stats into a DataFrame.\n",
    "\n",
    "b_df = pd.read_json('pos_stats.json')\n",
    "\n",
    "# The DataFrame has 15,133 rows and 13 columns.\n",
    "\n",
    "b_df.shape\n",
    "\n",
    "# The columns are ['age', 'avg', 'hr', 'obp', 'ops', 'player_name', 'position', 'rbi', 'salary', 'slg', 'team', 'war', 'year']\n",
    "\n",
    "b_df.columns"
   ]
  },
  {
   "cell_type": "code",
   "execution_count": 5,
   "metadata": {
    "collapsed": true
   },
   "outputs": [],
   "source": [
    "# Salary is object data type.  Need to convert that into an integer value.\n",
    "# Strip '$', get rid of commas, and convert to integer.\n",
    "\n",
    "b_df.salary = b_df.salary.apply(lambda x: int(''.join(x.strip('$ ').split(','))) if x else None)"
   ]
  },
  {
   "cell_type": "code",
   "execution_count": 6,
   "metadata": {
    "collapsed": true
   },
   "outputs": [],
   "source": [
    "# Some players from the early 20th century got scraped by mistake.\n",
    "# Get rid of any player-years that are not from 2000 or later.\n",
    "\n",
    "b_df.drop(b_df[b_df.year < 2000].index, inplace=True)"
   ]
  },
  {
   "cell_type": "code",
   "execution_count": 7,
   "metadata": {
    "collapsed": true
   },
   "outputs": [],
   "source": [
    "# 43% of the player-years don't have salary information.\n",
    "# I will drop those years, though I may want to come back to this later\n",
    "# and potentially make some assumptions.  E.g. that a salary from a previous\n",
    "# player-year can be extrapolated forward to another player-year without a salary record.\n",
    "\n",
    "b_df = b_df.dropna(subset=['salary'])"
   ]
  },
  {
   "cell_type": "code",
   "execution_count": 9,
   "metadata": {},
   "outputs": [],
   "source": [
    "# Since I am hypothesizing that salary follows a lognormal distribution,\n",
    "# similar to the distribution of income in the general economy,\n",
    "# I want to include a log_salary column.\n",
    "\n",
    "b_df['log_salary'] = np.log(b_df.salary)"
   ]
  },
  {
   "cell_type": "code",
   "execution_count": 11,
   "metadata": {},
   "outputs": [],
   "source": [
    "# Due to team changes, some team name values need to be fixed.\n",
    "# E.g. FLA needs to be changed to MIA.\n",
    "\n",
    "replacements = {\n",
    "                \"FLA\": \"MIA\",\n",
    "                \"MON\": \"WSN\",\n",
    "                \"ANA\": \"LAA\",\n",
    "                \"TBD\": \"TBR\",\n",
    "                }\n",
    "\n",
    "b_df = b_df.replace({'team': replacements})"
   ]
  },
  {
   "cell_type": "code",
   "execution_count": 12,
   "metadata": {
    "collapsed": true
   },
   "outputs": [],
   "source": [
    "# Next step is to create new columns corresponding to next year's salary and log salary.\n",
    "# Reset index to prepare for split-apply-combine operation.\n",
    "\n",
    "b_df = b_df.reset_index(drop=True)"
   ]
  },
  {
   "cell_type": "code",
   "execution_count": 13,
   "metadata": {
    "collapsed": true
   },
   "outputs": [],
   "source": [
    "# Group by player, and create next_year_salary column with a shift.\n",
    "\n",
    "b_df[['next_year_salary', 'next_year_log_salary']] = b_df.groupby('player_name')[['salary', 'log_salary']].apply(lambda x: x.shift(1))"
   ]
  },
  {
   "cell_type": "code",
   "execution_count": 15,
   "metadata": {},
   "outputs": [],
   "source": [
    "# Drop the resulting null values.\n",
    "\n",
    "b_df = b_df.dropna(subset=[['next_year_salary', 'next_year_log_salary']])"
   ]
  },
  {
   "cell_type": "code",
   "execution_count": 37,
   "metadata": {},
   "outputs": [],
   "source": [
    "# There are about 30 rows with missing batting stats.  Drop them.\n",
    "\n",
    "b_df = b_df.dropna(subset=[['avg', 'obp', 'ops', 'hr', 'rbi', 'slg']])"
   ]
  },
  {
   "cell_type": "code",
   "execution_count": 75,
   "metadata": {},
   "outputs": [
    {
     "data": {
      "text/html": [
       "<table class=\"simpletable\">\n",
       "<caption>OLS Regression Results</caption>\n",
       "<tr>\n",
       "  <th>Dep. Variable:</th>    <td>next_year_log_salary</td> <th>  R-squared:         </th> <td>   0.991</td> \n",
       "</tr>\n",
       "<tr>\n",
       "  <th>Model:</th>                     <td>OLS</td>         <th>  Adj. R-squared:    </th> <td>   0.991</td> \n",
       "</tr>\n",
       "<tr>\n",
       "  <th>Method:</th>               <td>Least Squares</td>    <th>  F-statistic:       </th> <td>6.398e+05</td>\n",
       "</tr>\n",
       "<tr>\n",
       "  <th>Date:</th>               <td>Sat, 30 Sep 2017</td>   <th>  Prob (F-statistic):</th>  <td>  0.00</td>  \n",
       "</tr>\n",
       "<tr>\n",
       "  <th>Time:</th>                   <td>21:45:41</td>       <th>  Log-Likelihood:    </th> <td> -9455.5</td> \n",
       "</tr>\n",
       "<tr>\n",
       "  <th>No. Observations:</th>        <td>  5552</td>        <th>  AIC:               </th> <td>1.891e+04</td>\n",
       "</tr>\n",
       "<tr>\n",
       "  <th>Df Residuals:</th>            <td>  5551</td>        <th>  BIC:               </th> <td>1.892e+04</td>\n",
       "</tr>\n",
       "<tr>\n",
       "  <th>Df Model:</th>                <td>     1</td>        <th>                     </th>     <td> </td>    \n",
       "</tr>\n",
       "<tr>\n",
       "  <th>Covariance Type:</th>        <td>nonrobust</td>      <th>                     </th>     <td> </td>    \n",
       "</tr>\n",
       "</table>\n",
       "<table class=\"simpletable\">\n",
       "<tr>\n",
       "    <td></td>      <th>coef</th>     <th>std err</th>      <th>t</th>      <th>P>|t|</th>  <th>[0.025</th>    <th>0.975]</th>  \n",
       "</tr>\n",
       "<tr>\n",
       "  <th>year</th> <td>    0.0071</td> <td> 8.88e-06</td> <td>  799.874</td> <td> 0.000</td> <td>    0.007</td> <td>    0.007</td>\n",
       "</tr>\n",
       "</table>\n",
       "<table class=\"simpletable\">\n",
       "<tr>\n",
       "  <th>Omnibus:</th>       <td>115.499</td> <th>  Durbin-Watson:     </th> <td>   0.645</td>\n",
       "</tr>\n",
       "<tr>\n",
       "  <th>Prob(Omnibus):</th> <td> 0.000</td>  <th>  Jarque-Bera (JB):  </th> <td> 251.227</td>\n",
       "</tr>\n",
       "<tr>\n",
       "  <th>Skew:</th>          <td> 0.018</td>  <th>  Prob(JB):          </th> <td>2.80e-55</td>\n",
       "</tr>\n",
       "<tr>\n",
       "  <th>Kurtosis:</th>      <td> 4.041</td>  <th>  Cond. No.          </th> <td>    1.00</td>\n",
       "</tr>\n",
       "</table>"
      ],
      "text/plain": [
       "<class 'statsmodels.iolib.summary.Summary'>\n",
       "\"\"\"\n",
       "                             OLS Regression Results                             \n",
       "================================================================================\n",
       "Dep. Variable:     next_year_log_salary   R-squared:                       0.991\n",
       "Model:                              OLS   Adj. R-squared:                  0.991\n",
       "Method:                   Least Squares   F-statistic:                 6.398e+05\n",
       "Date:                  Sat, 30 Sep 2017   Prob (F-statistic):               0.00\n",
       "Time:                          21:45:41   Log-Likelihood:                -9455.5\n",
       "No. Observations:                  5552   AIC:                         1.891e+04\n",
       "Df Residuals:                      5551   BIC:                         1.892e+04\n",
       "Df Model:                             1                                         \n",
       "Covariance Type:              nonrobust                                         \n",
       "==============================================================================\n",
       "                 coef    std err          t      P>|t|      [0.025      0.975]\n",
       "------------------------------------------------------------------------------\n",
       "year           0.0071   8.88e-06    799.874      0.000       0.007       0.007\n",
       "==============================================================================\n",
       "Omnibus:                      115.499   Durbin-Watson:                   0.645\n",
       "Prob(Omnibus):                  0.000   Jarque-Bera (JB):              251.227\n",
       "Skew:                           0.018   Prob(JB):                     2.80e-55\n",
       "Kurtosis:                       4.041   Cond. No.                         1.00\n",
       "==============================================================================\n",
       "\n",
       "Warnings:\n",
       "[1] Standard Errors assume that the covariance matrix of the errors is correctly specified.\n",
       "\"\"\""
      ]
     },
     "execution_count": 75,
     "metadata": {},
     "output_type": "execute_result"
    }
   ],
   "source": [
    "# Wow...the year tells you 99% of the variance in next_year_log_salary!?\n",
    "# Maybe need to take delta above league minimum?\n",
    "\n",
    "model = sm.OLS(b_df.next_year_log_salary, b_df[['year']])\n",
    "fit = model.fit()\n",
    "fit.summary()"
   ]
  },
  {
   "cell_type": "code",
   "execution_count": 78,
   "metadata": {},
   "outputs": [
    {
     "data": {
      "image/png": "[encoded data removed]",
      "text/plain": [
       "<matplotlib.figure.Figure at 0x1102f9748>"
      ]
     },
     "metadata": {},
     "output_type": "display_data"
    }
   ],
   "source": [
    "plt.scatter(b_df.year, b_df.next_year_log_salary);\n"
   ]
  },
  {
   "cell_type": "code",
   "execution_count": null,
   "metadata": {
    "collapsed": true
   },
   "outputs": [],
   "source": []
  }
 ],
 "metadata": {
  "kernelspec": {
   "display_name": "Python 3",
   "language": "python",
   "name": "python3"
  },
  "language_info": {
   "codemirror_mode": {
    "name": "ipython",
    "version": 3
   },
   "file_extension": ".py",
   "mimetype": "text/x-python",
   "name": "python",
   "nbconvert_exporter": "python",
   "pygments_lexer": "ipython3",
   "version": "3.6.1"
  }
 },
 "nbformat": 4,
 "nbformat_minor": 2
}
