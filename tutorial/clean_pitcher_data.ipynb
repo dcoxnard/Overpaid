{
 "cells": [
  {
   "cell_type": "code",
   "execution_count": 19,
   "metadata": {
    "collapsed": true
   },
   "outputs": [],
   "source": [
    "import pandas as pd\n",
    "import matplotlib.pyplot as plt\n",
    "import seaborn as sns\n",
    "import numpy as np\n",
    "from statsmodels.formula import api as sm\n",
    "import pickle\n",
    "%matplotlib inline"
   ]
  },
  {
   "cell_type": "code",
   "execution_count": 3,
   "metadata": {},
   "outputs": [
    {
     "data": {
      "text/plain": [
       "Index(['age', 'era', 'ip', 'losses', 'player_name', 'position', 'salary', 'so',\n",
       "       'so9', 'team', 'war', 'win_loss_perc', 'wins', 'year'],\n",
       "      dtype='object')"
      ]
     },
     "execution_count": 3,
     "metadata": {},
     "output_type": "execute_result"
    }
   ],
   "source": [
    "# Read json file of pitcher stats into a DF.\n",
    "k_df = pd.read_json('pitcher_stats.json')\n",
    "\n",
    "# The raw data has 14,576 rows and 14 columns.\n",
    "k_df.shape\n",
    "\n",
    "# The columns are ['age', 'era', 'ip', 'losses', 'player_name', 'position', 'salary', 'so', 'so9', 'team', 'war', 'win_loss_perc', 'wins', 'year']\n",
    "k_df.columns"
   ]
  },
  {
   "cell_type": "code",
   "execution_count": 4,
   "metadata": {
    "collapsed": true
   },
   "outputs": [],
   "source": [
    "# Salary is object data type.  Need to convert that into an integer value.\n",
    "# Strip '$', get rid of commas, and convert to integer.\n",
    "\n",
    "k_df.salary = k_df.salary.apply(lambda x: int(''.join(x.strip('$ ').split(','))) if x else None)"
   ]
  },
  {
   "cell_type": "code",
   "execution_count": 5,
   "metadata": {
    "collapsed": true
   },
   "outputs": [],
   "source": [
    "# Some players from the early 20th century got scraped by mistake.\n",
    "# Get rid of any player-years that are not from 2000 or later.\n",
    "\n",
    "k_df.drop(k_df[k_df.year < 2000].index, inplace=True)"
   ]
  },
  {
   "cell_type": "code",
   "execution_count": 6,
   "metadata": {
    "collapsed": true
   },
   "outputs": [],
   "source": [
    "# 43% of the player-years don't have salary information.\n",
    "# I will drop those years, though I may want to come back to this later\n",
    "# and potentially make some assumptions.  E.g. that a salary from a previous\n",
    "# player-year can be extrapolated forward to another player-year without a salary record.\n",
    "\n",
    "k_df = k_df.dropna(subset=['salary'])"
   ]
  },
  {
   "cell_type": "code",
   "execution_count": 7,
   "metadata": {
    "collapsed": true
   },
   "outputs": [],
   "source": [
    "# Since I am hypothesizing that salary follows a lognormal distribution,\n",
    "# similar to the distribution of income in the general economy,\n",
    "# I want to include a log_salary column.\n",
    "\n",
    "k_df['log_salary'] = np.log(k_df.salary)"
   ]
  },
  {
   "cell_type": "code",
   "execution_count": 8,
   "metadata": {},
   "outputs": [
    {
     "data": {
      "image/png": "[encoded data removed]",
      "text/plain": [
       "<matplotlib.figure.Figure at 0x10f885c50>"
      ]
     },
     "metadata": {},
     "output_type": "display_data"
    }
   ],
   "source": [
    "# Peek at the distributions of salary and log_salary.\n",
    "# Even log_salary has a huge bump on the left.\n",
    "\n",
    "k_df.log_salary[k_df.year == 2016].hist();"
   ]
  },
  {
   "cell_type": "code",
   "execution_count": 9,
   "metadata": {
    "collapsed": true
   },
   "outputs": [],
   "source": [
    "# Due to team changes, some team name values need to be fixed.\n",
    "# E.g. FLA needs to be changed to MIA.\n",
    "\n",
    "replacements = {\n",
    "                \"FLA\": \"MIA\",\n",
    "                \"MON\": \"WSN\",\n",
    "                \"ANA\": \"LAA\",\n",
    "                \"TBD\": \"TBR\",\n",
    "                }\n",
    "\n",
    "k_df = k_df.replace({'team': replacements})"
   ]
  },
  {
   "cell_type": "code",
   "execution_count": 10,
   "metadata": {},
   "outputs": [
    {
     "data": {
      "text/html": [
       "<div>\n",
       "<style>\n",
       "    .dataframe thead tr:only-child th {\n",
       "        text-align: right;\n",
       "    }\n",
       "\n",
       "    .dataframe thead th {\n",
       "        text-align: left;\n",
       "    }\n",
       "\n",
       "    .dataframe tbody tr th {\n",
       "        vertical-align: top;\n",
       "    }\n",
       "</style>\n",
       "<table border=\"1\" class=\"dataframe\">\n",
       "  <thead>\n",
       "    <tr style=\"text-align: right;\">\n",
       "      <th></th>\n",
       "      <th>age</th>\n",
       "      <th>era</th>\n",
       "      <th>ip</th>\n",
       "      <th>losses</th>\n",
       "      <th>player_name</th>\n",
       "      <th>position</th>\n",
       "      <th>salary</th>\n",
       "      <th>so</th>\n",
       "      <th>so9</th>\n",
       "      <th>team</th>\n",
       "      <th>war</th>\n",
       "      <th>win_loss_perc</th>\n",
       "      <th>wins</th>\n",
       "      <th>year</th>\n",
       "      <th>log_salary</th>\n",
       "    </tr>\n",
       "  </thead>\n",
       "  <tbody>\n",
       "    <tr>\n",
       "      <th>11844</th>\n",
       "      <td>24</td>\n",
       "      <td>inf</td>\n",
       "      <td>0.0</td>\n",
       "      <td>0.0</td>\n",
       "      <td>Lino Urdaneta</td>\n",
       "      <td>Pitcher</td>\n",
       "      <td>300000.0</td>\n",
       "      <td>0.0</td>\n",
       "      <td>NaN</td>\n",
       "      <td>DET</td>\n",
       "      <td>NaN</td>\n",
       "      <td>NaN</td>\n",
       "      <td>0.0</td>\n",
       "      <td>2004</td>\n",
       "      <td>12.611538</td>\n",
       "    </tr>\n",
       "    <tr>\n",
       "      <th>9442</th>\n",
       "      <td>25</td>\n",
       "      <td>108.000000</td>\n",
       "      <td>0.1</td>\n",
       "      <td>0.0</td>\n",
       "      <td>David Carpenter</td>\n",
       "      <td>Pitcher</td>\n",
       "      <td>493000.0</td>\n",
       "      <td>1.0</td>\n",
       "      <td>27.0</td>\n",
       "      <td>LAA</td>\n",
       "      <td>-0.4</td>\n",
       "      <td>NaN</td>\n",
       "      <td>0.0</td>\n",
       "      <td>2013</td>\n",
       "      <td>13.108264</td>\n",
       "    </tr>\n",
       "    <tr>\n",
       "      <th>355</th>\n",
       "      <td>32</td>\n",
       "      <td>81.000000</td>\n",
       "      <td>0.1</td>\n",
       "      <td>1.0</td>\n",
       "      <td>Hipólito Pichardo</td>\n",
       "      <td>Pitcher</td>\n",
       "      <td>500000.0</td>\n",
       "      <td>0.0</td>\n",
       "      <td>0.0</td>\n",
       "      <td>HOU</td>\n",
       "      <td>-0.3</td>\n",
       "      <td>0.0</td>\n",
       "      <td>0.0</td>\n",
       "      <td>2002</td>\n",
       "      <td>13.122363</td>\n",
       "    </tr>\n",
       "    <tr>\n",
       "      <th>3217</th>\n",
       "      <td>25</td>\n",
       "      <td>67.500000</td>\n",
       "      <td>1.1</td>\n",
       "      <td>0.0</td>\n",
       "      <td>Radhames Liz</td>\n",
       "      <td>Pitcher</td>\n",
       "      <td>402500.0</td>\n",
       "      <td>1.0</td>\n",
       "      <td>6.8</td>\n",
       "      <td>BAL</td>\n",
       "      <td>-0.5</td>\n",
       "      <td>NaN</td>\n",
       "      <td>0.0</td>\n",
       "      <td>2009</td>\n",
       "      <td>12.905450</td>\n",
       "    </tr>\n",
       "    <tr>\n",
       "      <th>2441</th>\n",
       "      <td>31</td>\n",
       "      <td>54.000000</td>\n",
       "      <td>0.1</td>\n",
       "      <td>1.0</td>\n",
       "      <td>Yunesky Maya</td>\n",
       "      <td>Pitcher</td>\n",
       "      <td>2000000.0</td>\n",
       "      <td>0.0</td>\n",
       "      <td>0.0</td>\n",
       "      <td>WSN</td>\n",
       "      <td>-0.3</td>\n",
       "      <td>0.0</td>\n",
       "      <td>0.0</td>\n",
       "      <td>2013</td>\n",
       "      <td>14.508658</td>\n",
       "    </tr>\n",
       "    <tr>\n",
       "      <th>6624</th>\n",
       "      <td>32</td>\n",
       "      <td>54.000000</td>\n",
       "      <td>1.0</td>\n",
       "      <td>0.0</td>\n",
       "      <td>Jared Fernandez</td>\n",
       "      <td>Pitcher</td>\n",
       "      <td>325000.0</td>\n",
       "      <td>0.0</td>\n",
       "      <td>0.0</td>\n",
       "      <td>HOU</td>\n",
       "      <td>-0.3</td>\n",
       "      <td>NaN</td>\n",
       "      <td>0.0</td>\n",
       "      <td>2004</td>\n",
       "      <td>12.691580</td>\n",
       "    </tr>\n",
       "    <tr>\n",
       "      <th>5464</th>\n",
       "      <td>33</td>\n",
       "      <td>43.200000</td>\n",
       "      <td>1.2</td>\n",
       "      <td>1.0</td>\n",
       "      <td>Juan Guzmán</td>\n",
       "      <td>Pitcher</td>\n",
       "      <td>6000000.0</td>\n",
       "      <td>3.0</td>\n",
       "      <td>16.2</td>\n",
       "      <td>TBR</td>\n",
       "      <td>-0.4</td>\n",
       "      <td>0.0</td>\n",
       "      <td>0.0</td>\n",
       "      <td>2000</td>\n",
       "      <td>15.607270</td>\n",
       "    </tr>\n",
       "    <tr>\n",
       "      <th>936</th>\n",
       "      <td>32</td>\n",
       "      <td>42.430000</td>\n",
       "      <td>2.1</td>\n",
       "      <td>0.0</td>\n",
       "      <td>Antonio Osuna</td>\n",
       "      <td>Pitcher</td>\n",
       "      <td>800000.0</td>\n",
       "      <td>0.0</td>\n",
       "      <td>0.0</td>\n",
       "      <td>WSN</td>\n",
       "      <td>-0.5</td>\n",
       "      <td>NaN</td>\n",
       "      <td>0.0</td>\n",
       "      <td>2005</td>\n",
       "      <td>13.592367</td>\n",
       "    </tr>\n",
       "    <tr>\n",
       "      <th>7520</th>\n",
       "      <td>24</td>\n",
       "      <td>40.500000</td>\n",
       "      <td>0.2</td>\n",
       "      <td>0.0</td>\n",
       "      <td>Blaine Boyer</td>\n",
       "      <td>Pitcher</td>\n",
       "      <td>336000.0</td>\n",
       "      <td>0.0</td>\n",
       "      <td>0.0</td>\n",
       "      <td>ATL</td>\n",
       "      <td>-0.3</td>\n",
       "      <td>NaN</td>\n",
       "      <td>0.0</td>\n",
       "      <td>2006</td>\n",
       "      <td>12.724866</td>\n",
       "    </tr>\n",
       "    <tr>\n",
       "      <th>717</th>\n",
       "      <td>26</td>\n",
       "      <td>37.130000</td>\n",
       "      <td>2.2</td>\n",
       "      <td>0.0</td>\n",
       "      <td>Joe Paterson</td>\n",
       "      <td>Pitcher</td>\n",
       "      <td>487500.0</td>\n",
       "      <td>0.0</td>\n",
       "      <td>0.0</td>\n",
       "      <td>ARI</td>\n",
       "      <td>-0.7</td>\n",
       "      <td>NaN</td>\n",
       "      <td>0.0</td>\n",
       "      <td>2012</td>\n",
       "      <td>13.097046</td>\n",
       "    </tr>\n",
       "  </tbody>\n",
       "</table>\n",
       "</div>"
      ],
      "text/plain": [
       "       age         era   ip  losses        player_name position     salary  \\\n",
       "11844   24         inf  0.0     0.0      Lino Urdaneta  Pitcher   300000.0   \n",
       "9442    25  108.000000  0.1     0.0    David Carpenter  Pitcher   493000.0   \n",
       "355     32   81.000000  0.1     1.0  Hipólito Pichardo  Pitcher   500000.0   \n",
       "3217    25   67.500000  1.1     0.0       Radhames Liz  Pitcher   402500.0   \n",
       "2441    31   54.000000  0.1     1.0       Yunesky Maya  Pitcher  2000000.0   \n",
       "6624    32   54.000000  1.0     0.0    Jared Fernandez  Pitcher   325000.0   \n",
       "5464    33   43.200000  1.2     1.0        Juan Guzmán  Pitcher  6000000.0   \n",
       "936     32   42.430000  2.1     0.0      Antonio Osuna  Pitcher   800000.0   \n",
       "7520    24   40.500000  0.2     0.0       Blaine Boyer  Pitcher   336000.0   \n",
       "717     26   37.130000  2.2     0.0       Joe Paterson  Pitcher   487500.0   \n",
       "\n",
       "        so   so9 team  war  win_loss_perc  wins  year  log_salary  \n",
       "11844  0.0   NaN  DET  NaN            NaN   0.0  2004   12.611538  \n",
       "9442   1.0  27.0  LAA -0.4            NaN   0.0  2013   13.108264  \n",
       "355    0.0   0.0  HOU -0.3            0.0   0.0  2002   13.122363  \n",
       "3217   1.0   6.8  BAL -0.5            NaN   0.0  2009   12.905450  \n",
       "2441   0.0   0.0  WSN -0.3            0.0   0.0  2013   14.508658  \n",
       "6624   0.0   0.0  HOU -0.3            NaN   0.0  2004   12.691580  \n",
       "5464   3.0  16.2  TBR -0.4            0.0   0.0  2000   15.607270  \n",
       "936    0.0   0.0  WSN -0.5            NaN   0.0  2005   13.592367  \n",
       "7520   0.0   0.0  ATL -0.3            NaN   0.0  2006   12.724866  \n",
       "717    0.0   0.0  ARI -0.7            NaN   0.0  2012   13.097046  "
      ]
     },
     "execution_count": 10,
     "metadata": {},
     "output_type": "execute_result"
    }
   ],
   "source": [
    "# There are some pitchers out there with a crazy high ERA.\n",
    "# Lino Urdaneta for example apparently has an infinite ERA.\n",
    "# Besides him, there are 10 or so pitchers with ERA > 40.\n",
    "# I think I will have to establish some kind of minimum limit of innings pitched.\n",
    "\n",
    "k_df.sort_values('era', ascending=False).head(10)"
   ]
  },
  {
   "cell_type": "code",
   "execution_count": 11,
   "metadata": {},
   "outputs": [
    {
     "data": {
      "image/png": "[encoded data removed]",
      "text/plain": [
       "<matplotlib.figure.Figure at 0x104db6da0>"
      ]
     },
     "metadata": {},
     "output_type": "display_data"
    }
   ],
   "source": [
    "# This plot makes it clear that the crazy ERA values belong to\n",
    "# pitchers with a small number of innings pitched.\n",
    "# My guess is that shifting the salary column to create a\n",
    "# next_year_salary column and dropping the resulting null values\n",
    "# will eliminate these data points.\n",
    "\n",
    "plt.scatter(k_df.ip, k_df.era);"
   ]
  },
  {
   "cell_type": "code",
   "execution_count": 12,
   "metadata": {
    "collapsed": true
   },
   "outputs": [],
   "source": [
    "# Reset index to prepare for split-apply-combine operation.\n",
    "\n",
    "k_df = k_df.reset_index(drop=True)"
   ]
  },
  {
   "cell_type": "code",
   "execution_count": 13,
   "metadata": {
    "collapsed": true
   },
   "outputs": [],
   "source": [
    "# It looks like there are a couple of pitchers that share the same name.\n",
    "# Grouping by player_name will not handle these cases well in years that\n",
    "# they overlap.  The plot below shows the number of play names each year.\n",
    "# The three spikes show that there are three instances of players with the \n",
    "# same name being active in the same year.\n",
    "\n",
    "#k_df.groupby(['player_name', 'year']).year.count().plot()"
   ]
  },
  {
   "cell_type": "code",
   "execution_count": 14,
   "metadata": {
    "collapsed": true
   },
   "outputs": [],
   "source": [
    "# Miguel Alfredo Gonzalez played on the 2014 Phillies.\n",
    "# Miguel Angel Gonzalez played several season on other teams.\n",
    "# A player named Roberto Hernandez who went by Fausto Carmona played for the 2007 Cleveland Indians.\n",
    "# Another player Roberto Hernandez played for a couple of different teams that year.\n",
    "# Apparently, two people named Christopher John Carpenter were both major league pitchers in 2012.\n",
    "# The one that played two seasons (2011 CHC and 2012 BOS) I've decided to call Chris Carpenter 1\n",
    "# The other one is Chris Carpenter 2.\n",
    "\n",
    "# Can't figure out how to fix these guys since they span multiple teams."
   ]
  },
  {
   "cell_type": "code",
   "execution_count": 15,
   "metadata": {
    "collapsed": true
   },
   "outputs": [],
   "source": [
    "# Group by player, and create next_year_salary column with a shift.\n",
    "\n",
    "k_df[['next_year_salary', 'next_year_log_salary']] = k_df.groupby('player_name')[['salary', 'log_salary']].apply(lambda x: x.shift(1))"
   ]
  },
  {
   "cell_type": "code",
   "execution_count": 16,
   "metadata": {
    "collapsed": true
   },
   "outputs": [],
   "source": [
    "k_df = k_df.dropna(subset=[['next_year_salary', 'next_year_log_salary']])"
   ]
  },
  {
   "cell_type": "code",
   "execution_count": 17,
   "metadata": {},
   "outputs": [
    {
     "name": "stdout",
     "output_type": "stream",
     "text": [
      "<class 'pandas.core.frame.DataFrame'>\n",
      "Int64Index: 5039 entries, 1 to 6687\n",
      "Data columns (total 17 columns):\n",
      "age                     5039 non-null int64\n",
      "era                     5006 non-null float64\n",
      "ip                      5007 non-null float64\n",
      "losses                  5004 non-null float64\n",
      "player_name             5039 non-null object\n",
      "position                5039 non-null object\n",
      "salary                  5039 non-null float64\n",
      "so                      5006 non-null float64\n",
      "so9                     5008 non-null float64\n",
      "team                    4409 non-null object\n",
      "war                     5039 non-null float64\n",
      "win_loss_perc           4783 non-null float64\n",
      "wins                    4994 non-null float64\n",
      "year                    5039 non-null int64\n",
      "log_salary              5039 non-null float64\n",
      "next_year_salary        5039 non-null float64\n",
      "next_year_log_salary    5039 non-null float64\n",
      "dtypes: float64(12), int64(2), object(3)\n",
      "memory usage: 708.6+ KB\n"
     ]
    }
   ],
   "source": [
    "# Data is looking clean and ready to start regression.\n",
    "\n",
    "k_df.info()"
   ]
  },
  {
   "cell_type": "code",
   "execution_count": 18,
   "metadata": {
    "collapsed": true
   },
   "outputs": [],
   "source": [
    "#### Ok, LR model is starting to look decent.  At this point I want to start\n",
    "#### examining each traditional stat's impact on predicting y and log_y, \n",
    "#### controlling for age and year.\n",
    "#### Also, do cross-validation.\n",
    "#### Try to do LR with sm and sklearn."
   ]
  },
  {
   "cell_type": "code",
   "execution_count": 20,
   "metadata": {
    "collapsed": true
   },
   "outputs": [],
   "source": [
    "### Cleaned data ready to be pickled.\n",
    "### Created picklefile 02 Oct in the afternoon.\n",
    "\n",
    "pickle_filename = '02_oct_cleaned_pickled_pitcher_data.pkl'\n",
    "with open(pickle_filename, 'wb') as f_obj:\n",
    "    pickle.dump(k_df, f_obj)"
   ]
  },
  {
   "cell_type": "code",
   "execution_count": null,
   "metadata": {
    "collapsed": true
   },
   "outputs": [],
   "source": []
  }
 ],
 "metadata": {
  "kernelspec": {
   "display_name": "Python 3",
   "language": "python",
   "name": "python3"
  },
  "language_info": {
   "codemirror_mode": {
    "name": "ipython",
    "version": 3
   },
   "file_extension": ".py",
   "mimetype": "text/x-python",
   "name": "python",
   "nbconvert_exporter": "python",
   "pygments_lexer": "ipython3",
   "version": "3.6.1"
  }
 },
 "nbformat": 4,
 "nbformat_minor": 2
}
