{
 "cells": [
  {
   "cell_type": "code",
   "execution_count": 2,
   "metadata": {
    "collapsed": true,
    "jupyter": {
     "outputs_hidden": true
    }
   },
   "outputs": [],
   "source": [
    "import pandas as pd\n",
    "import matplotlib.pyplot as plt\n",
    "import seaborn as sns\n",
    "import numpy as np\n",
    "from statsmodels.formula import api as sm\n",
    "from sklearn.linear_model import LinearRegression\n",
    "%matplotlib inline"
   ]
  },
  {
   "cell_type": "code",
   "execution_count": 3,
   "metadata": {},
   "outputs": [],
   "source": [
    "# Read json file of pitcher stats into a DF.\n",
    "k_df = pd.read_json('pitcher_stats.json')"
   ]
  },
  {
   "cell_type": "code",
   "execution_count": 4,
   "metadata": {
    "collapsed": true,
    "jupyter": {
     "outputs_hidden": true
    }
   },
   "outputs": [],
   "source": [
    "# Salary is object data type.  Need to convert that into an integer value.\n",
    "# Strip '$', get rid of commas, and convert to integer.\n",
    "\n",
    "k_df.salary = k_df.salary.apply(lambda x: int(''.join(x.strip('$ ').split(','))) if x else None)"
   ]
  },
  {
   "cell_type": "code",
   "execution_count": 5,
   "metadata": {
    "collapsed": true,
    "jupyter": {
     "outputs_hidden": true
    }
   },
   "outputs": [],
   "source": [
    "# Some players from the early 20th century got scraped by mistake.\n",
    "# Get rid of any player-years that are not from 2000 or later.\n",
    "\n",
    "k_df.drop(k_df[k_df.year < 2000].index, inplace=True)"
   ]
  },
  {
   "cell_type": "code",
   "execution_count": 6,
   "metadata": {
    "collapsed": true,
    "jupyter": {
     "outputs_hidden": true
    }
   },
   "outputs": [],
   "source": [
    "# 43% of the player-years don't have salary information.\n",
    "# I will drop those years, though I may want to come back to this later\n",
    "# and potentially make some assumptions.  E.g. that a salary from a previous\n",
    "# player-year can be extrapolated forward to another player-year without a salary record.\n",
    "\n",
    "k_df = k_df.dropna(subset=['salary'])"
   ]
  },
  {
   "cell_type": "code",
   "execution_count": 7,
   "metadata": {
    "collapsed": true,
    "jupyter": {
     "outputs_hidden": true
    }
   },
   "outputs": [],
   "source": [
    "# Since I am hypothesizing that salary follows a lognormal distribution,\n",
    "# similar to the distribution of income in the general economy,\n",
    "# I want to include a log_salary column.\n",
    "\n",
    "k_df['log_salary'] = np.log(k_df.salary)"
   ]
  },
  {
   "cell_type": "code",
   "execution_count": 8,
   "metadata": {
    "collapsed": true,
    "jupyter": {
     "outputs_hidden": true
    }
   },
   "outputs": [],
   "source": [
    "# Due to team changes, some team name values need to be fixed.\n",
    "# E.g. FLA needs to be changed to MIA.\n",
    "\n",
    "replacements = {\n",
    "                \"FLA\": \"MIA\",\n",
    "                \"MON\": \"WSN\",\n",
    "                \"ANA\": \"LAA\",\n",
    "                \"TBD\": \"TBR\",\n",
    "                }\n",
    "\n",
    "k_df = k_df.replace({'team': replacements})"
   ]
  },
  {
   "cell_type": "code",
   "execution_count": 13,
   "metadata": {
    "collapsed": true,
    "jupyter": {
     "outputs_hidden": true
    }
   },
   "outputs": [],
   "source": [
    "# Reset index to prepare for split-apply-combine operation.\n",
    "\n",
    "k_df = k_df.reset_index(drop=True)"
   ]
  },
  {
   "cell_type": "code",
   "execution_count": 9,
   "metadata": {
    "collapsed": true,
    "jupyter": {
     "outputs_hidden": true
    }
   },
   "outputs": [],
   "source": [
    "# Group by player, and create next_year_salary column with a shift.\n",
    "\n",
    "k_df[['next_year_salary', 'next_year_log_salary']] = k_df.groupby('player_name')[['salary', 'log_salary']].apply(lambda x: x.shift(1))"
   ]
  },
  {
   "cell_type": "code",
   "execution_count": 10,
   "metadata": {
    "collapsed": true,
    "jupyter": {
     "outputs_hidden": true
    }
   },
   "outputs": [],
   "source": [
    "k_df = k_df.dropna(subset=[['next_year_salary', 'next_year_log_salary']])"
   ]
  },
  {
   "cell_type": "code",
   "execution_count": 12,
   "metadata": {},
   "outputs": [],
   "source": [
    "k_df = k_df.dropna()"
   ]
  },
  {
   "cell_type": "code",
   "execution_count": 32,
   "metadata": {},
   "outputs": [
    {
     "data": {
      "image/png": "[encoded data removed]",
      "text/plain": [
       "<matplotlib.figure.Figure at 0x116dbe940>"
      ]
     },
     "metadata": {},
     "output_type": "display_data"
    }
   ],
   "source": [
    "X = k_df.age[:, np.newaxis]\n",
    "y = k_df.next_year_log_salary\n",
    "lm = LinearRegression()\n",
    "lm.fit(X, y)\n",
    "\n",
    "x_plot = np.linspace(20, 50, 100)\n",
    "y_plot = lm.predict(x_plot[:, np.newaxis])\n",
    "plt.scatter(X, y)\n",
    "plt.plot(x_plot, y_plot, color='red', );"
   ]
  },
  {
   "cell_type": "code",
   "execution_count": 16,
   "metadata": {},
   "outputs": [
    {
     "data": {
      "text/html": [
       "<table class=\"simpletable\">\n",
       "<caption>OLS Regression Results</caption>\n",
       "<tr>\n",
       "  <th>Dep. Variable:</th>            <td>y</td>        <th>  R-squared:         </th> <td>   0.345</td> \n",
       "</tr>\n",
       "<tr>\n",
       "  <th>Model:</th>                   <td>OLS</td>       <th>  Adj. R-squared:    </th> <td>   0.345</td> \n",
       "</tr>\n",
       "<tr>\n",
       "  <th>Method:</th>             <td>Least Squares</td>  <th>  F-statistic:       </th> <td>   2127.</td> \n",
       "</tr>\n",
       "<tr>\n",
       "  <th>Date:</th>             <td>Mon, 02 Oct 2017</td> <th>  Prob (F-statistic):</th>  <td>  0.00</td>  \n",
       "</tr>\n",
       "<tr>\n",
       "  <th>Time:</th>                 <td>14:21:18</td>     <th>  Log-Likelihood:    </th> <td> -35576.</td> \n",
       "</tr>\n",
       "<tr>\n",
       "  <th>No. Observations:</th>      <td>  4037</td>      <th>  AIC:               </th> <td>7.115e+04</td>\n",
       "</tr>\n",
       "<tr>\n",
       "  <th>Df Residuals:</th>          <td>  4036</td>      <th>  BIC:               </th> <td>7.116e+04</td>\n",
       "</tr>\n",
       "<tr>\n",
       "  <th>Df Model:</th>              <td>     1</td>      <th>                     </th>     <td> </td>    \n",
       "</tr>\n",
       "<tr>\n",
       "  <th>Covariance Type:</th>      <td>nonrobust</td>    <th>                     </th>     <td> </td>    \n",
       "</tr>\n",
       "</table>\n",
       "<table class=\"simpletable\">\n",
       "<tr>\n",
       "          <td></td>            <th>coef</th>     <th>std err</th>      <th>t</th>      <th>P>|t|</th>  <th>[0.025</th>    <th>0.975]</th>  \n",
       "</tr>\n",
       "<tr>\n",
       "  <th>next_year_salary</th> <td>    0.0002</td> <td> 5.12e-06</td> <td>   46.122</td> <td> 0.000</td> <td>    0.000</td> <td>    0.000</td>\n",
       "</tr>\n",
       "</table>\n",
       "<table class=\"simpletable\">\n",
       "<tr>\n",
       "  <th>Omnibus:</th>       <td>2046.018</td> <th>  Durbin-Watson:     </th> <td>   0.247</td> \n",
       "</tr>\n",
       "<tr>\n",
       "  <th>Prob(Omnibus):</th>  <td> 0.000</td>  <th>  Jarque-Bera (JB):  </th> <td>12512.211</td>\n",
       "</tr>\n",
       "<tr>\n",
       "  <th>Skew:</th>           <td>-2.406</td>  <th>  Prob(JB):          </th> <td>    0.00</td> \n",
       "</tr>\n",
       "<tr>\n",
       "  <th>Kurtosis:</th>       <td>10.158</td>  <th>  Cond. No.          </th> <td>    1.00</td> \n",
       "</tr>\n",
       "</table>"
      ],
      "text/plain": [
       "<class 'statsmodels.iolib.summary.Summary'>\n",
       "\"\"\"\n",
       "                            OLS Regression Results                            \n",
       "==============================================================================\n",
       "Dep. Variable:                      y   R-squared:                       0.345\n",
       "Model:                            OLS   Adj. R-squared:                  0.345\n",
       "Method:                 Least Squares   F-statistic:                     2127.\n",
       "Date:                Mon, 02 Oct 2017   Prob (F-statistic):               0.00\n",
       "Time:                        14:21:18   Log-Likelihood:                -35576.\n",
       "No. Observations:                4037   AIC:                         7.115e+04\n",
       "Df Residuals:                    4036   BIC:                         7.116e+04\n",
       "Df Model:                           1                                         \n",
       "Covariance Type:            nonrobust                                         \n",
       "====================================================================================\n",
       "                       coef    std err          t      P>|t|      [0.025      0.975]\n",
       "------------------------------------------------------------------------------------\n",
       "next_year_salary     0.0002   5.12e-06     46.122      0.000       0.000       0.000\n",
       "==============================================================================\n",
       "Omnibus:                     2046.018   Durbin-Watson:                   0.247\n",
       "Prob(Omnibus):                  0.000   Jarque-Bera (JB):            12512.211\n",
       "Skew:                          -2.406   Prob(JB):                         0.00\n",
       "Kurtosis:                      10.158   Cond. No.                         1.00\n",
       "==============================================================================\n",
       "\n",
       "Warnings:\n",
       "[1] Standard Errors assume that the covariance matrix of the errors is correctly specified.\n",
       "\"\"\""
      ]
     },
     "execution_count": 16,
     "metadata": {},
     "output_type": "execute_result"
    }
   ],
   "source": [
    "lms = sm.OLS(X, y)\n",
    "fit = lms.fit()\n",
    "fit.summary()"
   ]
  }
 ],
 "metadata": {
  "kernelspec": {
   "display_name": "Python 3",
   "language": "python",
   "name": "python3"
  },
  "language_info": {
   "codemirror_mode": {
    "name": "ipython",
    "version": 3
   },
   "file_extension": ".py",
   "mimetype": "text/x-python",
   "name": "python",
   "nbconvert_exporter": "python",
   "pygments_lexer": "ipython3",
   "version": "3.6.7"
  }
 },
 "nbformat": 4,
 "nbformat_minor": 4
}
