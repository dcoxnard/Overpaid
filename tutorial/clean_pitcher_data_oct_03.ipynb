{
 "cells": [
  {
   "cell_type": "code",
   "execution_count": 1,
   "metadata": {
    "collapsed": true
   },
   "outputs": [],
   "source": [
    "import pandas as pd\n",
    "import matplotlib.pyplot as plt\n",
    "import seaborn as sns\n",
    "import numpy as np\n",
    "from statsmodels.formula import api as sm\n",
    "import pickle\n",
    "%matplotlib inline"
   ]
  },
  {
   "cell_type": "code",
   "execution_count": 2,
   "metadata": {},
   "outputs": [
    {
     "data": {
      "text/plain": [
       "Index(['age', 'era', 'ip', 'losses', 'player_name', 'position', 'salary', 'so',\n",
       "       'so9', 'team', 'war', 'win_loss_perc', 'wins', 'year'],\n",
       "      dtype='object')"
      ]
     },
     "execution_count": 2,
     "metadata": {},
     "output_type": "execute_result"
    }
   ],
   "source": [
    "# Read json file of pitcher stats into a DF.\n",
    "k_df = pd.read_json('pitcher_stats.json')\n",
    "\n",
    "# The raw data has 14,576 rows and 14 columns.\n",
    "k_df.shape\n",
    "\n",
    "# The columns are ['age', 'era', 'ip', 'losses', 'player_name', 'position', 'salary', 'so', 'so9', 'team', 'war', 'win_loss_perc', 'wins', 'year']\n",
    "k_df.columns"
   ]
  },
  {
   "cell_type": "code",
   "execution_count": 3,
   "metadata": {
    "collapsed": true
   },
   "outputs": [],
   "source": [
    "# Salary is object data type.  Need to convert that into an integer value.\n",
    "# Strip '$', get rid of commas, and convert to integer.\n",
    "\n",
    "k_df.salary = k_df.salary.apply(lambda x: int(''.join(x.strip('$ ').split(','))) if x else None)"
   ]
  },
  {
   "cell_type": "code",
   "execution_count": 4,
   "metadata": {
    "collapsed": true
   },
   "outputs": [],
   "source": [
    "# Some players from the early 20th century got scraped by mistake.\n",
    "# Get rid of any player-years that are not from 2000 or later.\n",
    "\n",
    "k_df.drop(k_df[k_df.year < 2000].index, inplace=True)"
   ]
  },
  {
   "cell_type": "code",
   "execution_count": 5,
   "metadata": {
    "collapsed": true
   },
   "outputs": [],
   "source": [
    "# 43% of the player-years don't have salary information.\n",
    "# I will drop those years, though I may want to come back to this later\n",
    "# and potentially make some assumptions.  E.g. that a salary from a previous\n",
    "# player-year can be extrapolated forward to another player-year without a salary record.\n",
    "\n",
    "k_df = k_df.dropna(subset=['salary'])"
   ]
  },
  {
   "cell_type": "code",
   "execution_count": 6,
   "metadata": {
    "collapsed": true
   },
   "outputs": [],
   "source": [
    "# Since I am hypothesizing that salary follows a lognormal distribution,\n",
    "# similar to the distribution of income in the general economy,\n",
    "# I want to include a log_salary column.\n",
    "\n",
    "k_df['log_salary'] = np.log(k_df.salary)"
   ]
  },
  {
   "cell_type": "code",
   "execution_count": 7,
   "metadata": {
    "collapsed": true
   },
   "outputs": [],
   "source": [
    "# Due to team changes, some team name values need to be fixed.\n",
    "# E.g. FLA needs to be changed to MIA.\n",
    "\n",
    "replacements = {\n",
    "                \"FLA\": \"MIA\",\n",
    "                \"MON\": \"WSN\",\n",
    "                \"ANA\": \"LAA\",\n",
    "                \"TBD\": \"TBR\",\n",
    "                }\n",
    "\n",
    "k_df = k_df.replace({'team': replacements})"
   ]
  },
  {
   "cell_type": "code",
   "execution_count": 8,
   "metadata": {
    "collapsed": true
   },
   "outputs": [],
   "source": [
    "# Reset index to prepare for split-apply-combine operation.\n",
    "\n",
    "k_df = k_df.reset_index(drop=True)"
   ]
  },
  {
   "cell_type": "code",
   "execution_count": 9,
   "metadata": {
    "collapsed": true
   },
   "outputs": [],
   "source": [
    "# Group by player, and create next_year_salary column with a shift.\n",
    "\n",
    "k_df[['next_year_salary', 'next_year_log_salary']] = k_df.groupby('player_name')[['salary', 'log_salary']].apply(lambda x: x.shift(1))"
   ]
  },
  {
   "cell_type": "code",
   "execution_count": 10,
   "metadata": {},
   "outputs": [],
   "source": [
    "# Data on league minimum by year, in dictionary format.\n",
    "# These actually correspond to NEXT years league min in the given year.\n",
    "\n",
    "lm_dict = {\n",
    "            2000: 300000,\n",
    "            2001: 300000,\n",
    "            2002: 300000,\n",
    "            2003: 316000,\n",
    "            2004: 327000,\n",
    "            2005: 380000,\n",
    "            2006: 390000,\n",
    "            2007: 400000,\n",
    "            2008: 400000,\n",
    "            2009: 414000,\n",
    "            2010: 480000,\n",
    "            2011: 480000,\n",
    "            2012: 480000,\n",
    "            2013: 507500,\n",
    "            2014: 507500,\n",
    "            2015: 535000,\n",
    "            2016: 545000,\n",
    "            2017: 555000\n",
    "            }"
   ]
  },
  {
   "cell_type": "code",
   "execution_count": 11,
   "metadata": {},
   "outputs": [
    {
     "name": "stderr",
     "output_type": "stream",
     "text": [
      "/Users/davidoxnard/anaconda/lib/python3.6/site-packages/pandas/core/indexing.py:179: SettingWithCopyWarning: \n",
      "A value is trying to be set on a copy of a slice from a DataFrame\n",
      "\n",
      "See the caveats in the documentation: http://pandas.pydata.org/pandas-docs/stable/indexing.html#indexing-view-versus-copy\n",
      "  self._setitem_with_indexer(indexer, value)\n"
     ]
    }
   ],
   "source": [
    "k_df['league_min'] = np.zeros(k_df.shape[0])\n",
    "\n",
    "for year_, salary_ in lm_dict.items():\n",
    "    k_df.league_min.loc[k_df.year == year_] = salary_"
   ]
  },
  {
   "cell_type": "code",
   "execution_count": 12,
   "metadata": {
    "collapsed": true
   },
   "outputs": [],
   "source": [
    "# Get amount over minimum.\n",
    "\n",
    "k_df['salary_over_minimum'] = k_df['next_year_salary'] - k_df['league_min']"
   ]
  },
  {
   "cell_type": "code",
   "execution_count": 13,
   "metadata": {},
   "outputs": [
    {
     "name": "stderr",
     "output_type": "stream",
     "text": [
      "/Users/davidoxnard/anaconda/lib/python3.6/site-packages/pandas/core/indexing.py:179: SettingWithCopyWarning: \n",
      "A value is trying to be set on a copy of a slice from a DataFrame\n",
      "\n",
      "See the caveats in the documentation: http://pandas.pydata.org/pandas-docs/stable/indexing.html#indexing-view-versus-copy\n",
      "  self._setitem_with_indexer(indexer, value)\n"
     ]
    }
   ],
   "source": [
    "# Create indicator variable for players within threshold amount of league minimum.\n",
    "\n",
    "threshold = 10000\n",
    "\n",
    "k_df['player_at_min'] = np.zeros(k_df.shape[0])\n",
    "k_df.player_at_min.loc[k_df.salary_over_minimum <= threshold] = 1"
   ]
  },
  {
   "cell_type": "code",
   "execution_count": 14,
   "metadata": {
    "collapsed": true
   },
   "outputs": [],
   "source": [
    "# Drop empty values.\n",
    "k_df = k_df.dropna()"
   ]
  },
  {
   "cell_type": "code",
   "execution_count": 15,
   "metadata": {
    "collapsed": true
   },
   "outputs": [],
   "source": [
    "k_df = k_df.reset_index(drop=True)"
   ]
  },
  {
   "cell_type": "code",
   "execution_count": null,
   "metadata": {},
   "outputs": [],
   "source": []
  },
  {
   "cell_type": "code",
   "execution_count": 19,
   "metadata": {
    "collapsed": true
   },
   "outputs": [],
   "source": [
    "### Cleaned data ready to be pickled.\n",
    "### Created picklefile 03 Oct in the afternoon.\n",
    "\n",
    "#pickle_filename = '03_oct_cleaned_pickled_pitcher_data.pkl'\n",
    "#with open(pickle_filename, 'wb') as f_obj:\n",
    "#    pickle.dump(k_df, f_obj)"
   ]
  }
 ],
 "metadata": {
  "kernelspec": {
   "display_name": "Python 3",
   "language": "python",
   "name": "python3"
  },
  "language_info": {
   "codemirror_mode": {
    "name": "ipython",
    "version": 3
   },
   "file_extension": ".py",
   "mimetype": "text/x-python",
   "name": "python",
   "nbconvert_exporter": "python",
   "pygments_lexer": "ipython3",
   "version": "3.6.1"
  }
 },
 "nbformat": 4,
 "nbformat_minor": 2
}
