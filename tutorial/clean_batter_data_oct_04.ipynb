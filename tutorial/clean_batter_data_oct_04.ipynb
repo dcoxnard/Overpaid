{
 "cells": [
  {
   "cell_type": "code",
   "execution_count": 1,
   "metadata": {
    "collapsed": true,
    "jupyter": {
     "outputs_hidden": true
    }
   },
   "outputs": [],
   "source": [
    "import pickle\n",
    "import pandas as pd\n",
    "import matplotlib.pyplot as plt\n",
    "import seaborn as sns\n",
    "import numpy as np\n",
    "from statsmodels.formula import api as sm\n",
    "%matplotlib inline"
   ]
  },
  {
   "cell_type": "code",
   "execution_count": 2,
   "metadata": {},
   "outputs": [
    {
     "data": {
      "text/plain": [
       "Index(['age', 'avg', 'hr', 'obp', 'ops', 'pa', 'player_name', 'position',\n",
       "       'rbi', 'salary', 'slg', 'team', 'war', 'year'],\n",
       "      dtype='object')"
      ]
     },
     "execution_count": 2,
     "metadata": {},
     "output_type": "execute_result"
    }
   ],
   "source": [
    "# Read json data on batting stats into a DataFrame.\n",
    "\n",
    "b_df = pd.read_json('oct4batters.json')\n",
    "\n",
    "# The DataFrame has 15,133 rows and 13 columns.\n",
    "\n",
    "b_df.shape\n",
    "\n",
    "# The columns are ['age', 'avg', 'hr', 'obp', 'ops', 'player_name', 'position', 'rbi', 'salary', 'slg', 'team', 'war', 'year']\n",
    "\n",
    "b_df.columns"
   ]
  },
  {
   "cell_type": "code",
   "execution_count": 3,
   "metadata": {
    "collapsed": true,
    "jupyter": {
     "outputs_hidden": true
    }
   },
   "outputs": [],
   "source": [
    "# Salary is object data type.  Need to convert that into an integer value.\n",
    "# Strip '$', get rid of commas, and convert to integer.\n",
    "\n",
    "b_df.salary = b_df.salary.apply(lambda x: int(''.join(x.strip('$ ').split(','))) if x else None)"
   ]
  },
  {
   "cell_type": "code",
   "execution_count": 4,
   "metadata": {
    "collapsed": true,
    "jupyter": {
     "outputs_hidden": true
    }
   },
   "outputs": [],
   "source": [
    "# Some players from the early 20th century got scraped by mistake.\n",
    "# Get rid of any player-years that are not from 2000 or later.\n",
    "\n",
    "b_df.drop(b_df[b_df.year < 2000].index, inplace=True)"
   ]
  },
  {
   "cell_type": "code",
   "execution_count": 5,
   "metadata": {
    "collapsed": true,
    "jupyter": {
     "outputs_hidden": true
    }
   },
   "outputs": [],
   "source": [
    "# 43% of the player-years don't have salary information.\n",
    "# I will drop those years, though I may want to come back to this later\n",
    "# and potentially make some assumptions.  E.g. that a salary from a previous\n",
    "# player-year can be extrapolated forward to another player-year without a salary record.\n",
    "\n",
    "b_df = b_df.dropna(subset=['salary'])"
   ]
  },
  {
   "cell_type": "code",
   "execution_count": 6,
   "metadata": {
    "collapsed": true,
    "jupyter": {
     "outputs_hidden": true
    }
   },
   "outputs": [],
   "source": [
    "# Since I am hypothesizing that salary follows a lognormal distribution,\n",
    "# similar to the distribution of income in the general economy,\n",
    "# I want to include a log_salary column.\n",
    "\n",
    "b_df['log_salary'] = np.log(b_df.salary)"
   ]
  },
  {
   "cell_type": "code",
   "execution_count": 7,
   "metadata": {
    "collapsed": true,
    "jupyter": {
     "outputs_hidden": true
    }
   },
   "outputs": [],
   "source": [
    "# Due to team changes, some team name values need to be fixed.\n",
    "# E.g. FLA needs to be changed to MIA.\n",
    "\n",
    "replacements = {\n",
    "                \"FLA\": \"MIA\",\n",
    "                \"MON\": \"WSN\",\n",
    "                \"ANA\": \"LAA\",\n",
    "                \"TBD\": \"TBR\",\n",
    "                }\n",
    "\n",
    "b_df = b_df.replace({'team': replacements})"
   ]
  },
  {
   "cell_type": "code",
   "execution_count": 8,
   "metadata": {
    "collapsed": true,
    "jupyter": {
     "outputs_hidden": true
    }
   },
   "outputs": [],
   "source": [
    "# Next step is to create new columns corresponding to next year's salary and log salary.\n",
    "# Reset index to prepare for split-apply-combine operation.\n",
    "\n",
    "b_df = b_df.reset_index(drop=True)"
   ]
  },
  {
   "cell_type": "code",
   "execution_count": 9,
   "metadata": {
    "collapsed": true,
    "jupyter": {
     "outputs_hidden": true
    }
   },
   "outputs": [],
   "source": [
    "# Group by player, and create next_year_salary column with a shift.\n",
    "\n",
    "b_df[['next_year_salary', 'next_year_log_salary']] = b_df.groupby('player_name')[['salary', 'log_salary']].apply(lambda x: x.shift(1))"
   ]
  },
  {
   "cell_type": "code",
   "execution_count": 10,
   "metadata": {
    "collapsed": true,
    "jupyter": {
     "outputs_hidden": true
    }
   },
   "outputs": [],
   "source": [
    "# Drop the resulting null values.\n",
    "\n",
    "b_df = b_df.dropna(subset=[['next_year_salary', 'next_year_log_salary']])"
   ]
  },
  {
   "cell_type": "code",
   "execution_count": 11,
   "metadata": {
    "collapsed": true,
    "jupyter": {
     "outputs_hidden": true
    }
   },
   "outputs": [],
   "source": [
    "# There are about 30 rows with missing batting stats.  Drop them.\n",
    "\n",
    "b_df = b_df.dropna()"
   ]
  },
  {
   "cell_type": "code",
   "execution_count": 12,
   "metadata": {
    "collapsed": true,
    "jupyter": {
     "outputs_hidden": true
    }
   },
   "outputs": [],
   "source": [
    "# Data on league minimum by year, in dictionary format.\n",
    "# These actually correspond to NEXT years league min in the given year.\n",
    "\n",
    "lm_dict = {\n",
    "            2000: 300000,\n",
    "            2001: 300000,\n",
    "            2002: 300000,\n",
    "            2003: 316000,\n",
    "            2004: 327000,\n",
    "            2005: 380000,\n",
    "            2006: 390000,\n",
    "            2007: 400000,\n",
    "            2008: 400000,\n",
    "            2009: 414000,\n",
    "            2010: 480000,\n",
    "            2011: 480000,\n",
    "            2012: 480000,\n",
    "            2013: 507500,\n",
    "            2014: 507500,\n",
    "            2015: 535000,\n",
    "            2016: 545000,\n",
    "            2017: 555000\n",
    "            }"
   ]
  },
  {
   "cell_type": "code",
   "execution_count": 13,
   "metadata": {},
   "outputs": [
    {
     "name": "stderr",
     "output_type": "stream",
     "text": [
      "/Users/davidoxnard/anaconda/lib/python3.6/site-packages/pandas/core/indexing.py:179: SettingWithCopyWarning: \n",
      "A value is trying to be set on a copy of a slice from a DataFrame\n",
      "\n",
      "See the caveats in the documentation: http://pandas.pydata.org/pandas-docs/stable/indexing.html#indexing-view-versus-copy\n",
      "  self._setitem_with_indexer(indexer, value)\n"
     ]
    }
   ],
   "source": [
    "b_df['league_min'] = np.zeros(b_df.shape[0])\n",
    "\n",
    "for year_, salary_ in lm_dict.items():\n",
    "    b_df.league_min.loc[b_df.year == year_] = salary_"
   ]
  },
  {
   "cell_type": "code",
   "execution_count": 14,
   "metadata": {
    "collapsed": true,
    "jupyter": {
     "outputs_hidden": true
    }
   },
   "outputs": [],
   "source": [
    "# Get amount over minimum.\n",
    "\n",
    "b_df['salary_over_minimum'] = b_df['next_year_salary'] - b_df['league_min']"
   ]
  },
  {
   "cell_type": "code",
   "execution_count": 15,
   "metadata": {},
   "outputs": [
    {
     "name": "stderr",
     "output_type": "stream",
     "text": [
      "/Users/davidoxnard/anaconda/lib/python3.6/site-packages/pandas/core/indexing.py:179: SettingWithCopyWarning: \n",
      "A value is trying to be set on a copy of a slice from a DataFrame\n",
      "\n",
      "See the caveats in the documentation: http://pandas.pydata.org/pandas-docs/stable/indexing.html#indexing-view-versus-copy\n",
      "  self._setitem_with_indexer(indexer, value)\n"
     ]
    }
   ],
   "source": [
    "# Create indicator variable for players within threshold amount of league minimum.\n",
    "\n",
    "threshold = 10000\n",
    "\n",
    "b_df['player_at_min'] = np.zeros(b_df.shape[0])\n",
    "b_df.player_at_min.loc[b_df.salary_over_minimum <= threshold] = 1"
   ]
  },
  {
   "cell_type": "code",
   "execution_count": 16,
   "metadata": {
    "collapsed": true,
    "jupyter": {
     "outputs_hidden": true
    }
   },
   "outputs": [],
   "source": [
    "b_df = b_df.dropna()"
   ]
  },
  {
   "cell_type": "code",
   "execution_count": 17,
   "metadata": {
    "collapsed": true,
    "jupyter": {
     "outputs_hidden": true
    }
   },
   "outputs": [],
   "source": [
    "b_df = b_df.reset_index(drop=True)"
   ]
  },
  {
   "cell_type": "code",
   "execution_count": 18,
   "metadata": {},
   "outputs": [
    {
     "name": "stdout",
     "output_type": "stream",
     "text": [
      "<class 'pandas.core.frame.DataFrame'>\n",
      "RangeIndex: 4886 entries, 0 to 4885\n",
      "Data columns (total 20 columns):\n",
      "age                     4886 non-null int64\n",
      "avg                     4886 non-null float64\n",
      "hr                      4886 non-null float64\n",
      "obp                     4886 non-null float64\n",
      "ops                     4886 non-null float64\n",
      "pa                      4886 non-null float64\n",
      "player_name             4886 non-null object\n",
      "position                4886 non-null object\n",
      "rbi                     4886 non-null float64\n",
      "salary                  4886 non-null float64\n",
      "slg                     4886 non-null float64\n",
      "team                    4886 non-null object\n",
      "war                     4886 non-null float64\n",
      "year                    4886 non-null int64\n",
      "log_salary              4886 non-null float64\n",
      "next_year_salary        4886 non-null float64\n",
      "next_year_log_salary    4886 non-null float64\n",
      "league_min              4886 non-null float64\n",
      "salary_over_minimum     4886 non-null float64\n",
      "player_at_min           4886 non-null float64\n",
      "dtypes: float64(15), int64(2), object(3)\n",
      "memory usage: 763.5+ KB\n"
     ]
    }
   ],
   "source": [
    "b_df.info()"
   ]
  },
  {
   "cell_type": "code",
   "execution_count": 19,
   "metadata": {
    "collapsed": true,
    "jupyter": {
     "outputs_hidden": true
    }
   },
   "outputs": [],
   "source": [
    "### Cleaned data ready to be pickled.\n",
    "### Created picklefile 04 Oct in the afternoon.\n",
    "\n",
    "#pickle_filename = '04_oct_cleaned_pickled_batter_data.pkl'\n",
    "#with open(pickle_filename, 'wb') as f_obj:\n",
    "#    pickle.dump(b_df, f_obj)"
   ]
  },
  {
   "cell_type": "code",
   "execution_count": null,
   "metadata": {
    "collapsed": true,
    "jupyter": {
     "outputs_hidden": true
    }
   },
   "outputs": [],
   "source": []
  }
 ],
 "metadata": {
  "kernelspec": {
   "display_name": "Python 3",
   "language": "python",
   "name": "python3"
  },
  "language_info": {
   "codemirror_mode": {
    "name": "ipython",
    "version": 3
   },
   "file_extension": ".py",
   "mimetype": "text/x-python",
   "name": "python",
   "nbconvert_exporter": "python",
   "pygments_lexer": "ipython3",
   "version": "3.6.7"
  }
 },
 "nbformat": 4,
 "nbformat_minor": 4
}
