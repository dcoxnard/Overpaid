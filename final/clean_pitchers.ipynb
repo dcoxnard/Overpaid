{
 "cells": [
  {
   "cell_type": "markdown",
   "metadata": {},
   "source": [
    "# Clean Pitcher Data\n",
    "\n",
    "In this notebook, I read the JSON file of pitcher player data into a `pandas` DataFrame, and clean the data so it is ready for analysis."
   ]
  },
  {
   "cell_type": "code",
   "execution_count": 1,
   "metadata": {
    "collapsed": true
   },
   "outputs": [],
   "source": [
    "import pandas as pd\n",
    "import numpy as np\n",
    "import pickle\n",
    "%matplotlib inline"
   ]
  },
  {
   "cell_type": "code",
   "execution_count": 2,
   "metadata": {},
   "outputs": [
    {
     "data": {
      "text/plain": [
       "Index(['age', 'era', 'g', 'ip', 'losses', 'player_name', 'position', 'salary',\n",
       "       'so', 'so9', 'team', 'war', 'win_loss_perc', 'wins', 'year'],\n",
       "      dtype='object')"
      ]
     },
     "execution_count": 2,
     "metadata": {},
     "output_type": "execute_result"
    }
   ],
   "source": [
    "df = pd.read_json('data_pitchers.json')\n",
    "df.columns"
   ]
  },
  {
   "cell_type": "markdown",
   "metadata": {},
   "source": [
    "Salary data is in string form.  I need to strip off the '$' sign, get rid of commas, and convert to an integer."
   ]
  },
  {
   "cell_type": "code",
   "execution_count": 3,
   "metadata": {
    "collapsed": true
   },
   "outputs": [],
   "source": [
    "df.salary = df.salary.apply(lambda x: int(''.join(x.strip('$ ').split(','))) if x else None)"
   ]
  },
  {
   "cell_type": "markdown",
   "metadata": {},
   "source": [
    "For my analysis, I am only interested in players that were active from 2000 onward.  However, I scraped data for all players, so I need to drop rows that correspond to player-years before 2000.  Maybe I can use the extra data on another project someday."
   ]
  },
  {
   "cell_type": "code",
   "execution_count": 4,
   "metadata": {
    "collapsed": true
   },
   "outputs": [],
   "source": [
    "df.drop(df[df.year < 2000].index, inplace=True)"
   ]
  },
  {
   "cell_type": "markdown",
   "metadata": {},
   "source": [
    "Several rows do not contain salary data.  These rows will throw my analysis off, so I need to drop them.  This might be a risk; I do not know what might have caused a row to contain no data.  It is possible that there is some systematic mistake, but for this project I will treat this missing values as worthless data."
   ]
  },
  {
   "cell_type": "code",
   "execution_count": 5,
   "metadata": {
    "collapsed": true
   },
   "outputs": [],
   "source": [
    "df = df.dropna(subset=['salary'])"
   ]
  },
  {
   "cell_type": "markdown",
   "metadata": {},
   "source": [
    "Transform salary to log(salary)."
   ]
  },
  {
   "cell_type": "code",
   "execution_count": 6,
   "metadata": {
    "collapsed": true
   },
   "outputs": [],
   "source": [
    "df['log_salary'] = np.log(df.salary)"
   ]
  },
  {
   "cell_type": "markdown",
   "metadata": {},
   "source": [
    "Since 2000, there have been some team relocations and renamings.  Map old team names to the corresponding current team name."
   ]
  },
  {
   "cell_type": "code",
   "execution_count": 7,
   "metadata": {
    "collapsed": true
   },
   "outputs": [],
   "source": [
    "replacements = {\n",
    "                \"FLA\": \"MIA\",\n",
    "                \"MON\": \"WSN\",\n",
    "                \"ANA\": \"LAA\",\n",
    "                \"TBD\": \"TBR\",\n",
    "                }\n",
    "\n",
    "df = df.replace({'team': replacements})"
   ]
  },
  {
   "cell_type": "markdown",
   "metadata": {},
   "source": [
    "Since I'm trying to predict a player's salary in the year after he registers season-level stats, I need to apply a shift to create \"next year salary\" and \"next year log salary\" columns.  I do this with a split-apply combine operation in `pandas`.  I group the DataFrame by player, and shift the salary and log salary columns."
   ]
  },
  {
   "cell_type": "code",
   "execution_count": 9,
   "metadata": {
    "collapsed": true
   },
   "outputs": [],
   "source": [
    "df = df.reset_index(drop=True)\n",
    "df[['next_year_salary', 'next_year_log_salary']] = df.groupby('player_name')[['salary', 'log_salary']].apply(lambda x: x.shift(1))"
   ]
  },
  {
   "cell_type": "markdown",
   "metadata": {},
   "source": [
    "The league minimum salary has changed over time.  Create a new column with information about minimum salary in a given year.  The dictionary below actually corresponds to next year's minimum in each given year."
   ]
  },
  {
   "cell_type": "code",
   "execution_count": 10,
   "metadata": {
    "collapsed": true
   },
   "outputs": [],
   "source": [
    "lm_dict = {\n",
    "            2000: 300000,\n",
    "            2001: 300000,\n",
    "            2002: 300000,\n",
    "            2003: 316000,\n",
    "            2004: 327000,\n",
    "            2005: 380000,\n",
    "            2006: 390000,\n",
    "            2007: 400000,\n",
    "            2008: 400000,\n",
    "            2009: 414000,\n",
    "            2010: 480000,\n",
    "            2011: 480000,\n",
    "            2012: 480000,\n",
    "            2013: 507500,\n",
    "            2014: 507500,\n",
    "            2015: 535000,\n",
    "            2016: 545000,\n",
    "            2017: 555000\n",
    "            }\n",
    "\n",
    "df['league_min'] = np.zeros(df.shape[0])\n",
    "\n",
    "for year_, salary_ in lm_dict.items():\n",
    "    df.league_min.loc[df.year == year_] = salary_"
   ]
  },
  {
   "cell_type": "markdown",
   "metadata": {},
   "source": [
    "Compute how much money a player made above the league minimum, and create a new column."
   ]
  },
  {
   "cell_type": "code",
   "execution_count": 12,
   "metadata": {
    "collapsed": true
   },
   "outputs": [],
   "source": [
    "df['salary_over_minimum'] = df['next_year_salary'] - df['league_min']"
   ]
  },
  {
   "cell_type": "markdown",
   "metadata": {},
   "source": [
    "Most players make the league minimum or slightly more than the league minimum.  I might be interested in analyzing just the subset of players that make more than the league minimum.  For now, I set the thrreshold at $10,000 above the league minimum, which is not much, and create an indicator variable."
   ]
  },
  {
   "cell_type": "code",
   "execution_count": 13,
   "metadata": {},
   "outputs": [
    {
     "name": "stderr",
     "output_type": "stream",
     "text": [
      "/Users/davidoxnard/anaconda/lib/python3.6/site-packages/pandas/core/indexing.py:179: SettingWithCopyWarning: \n",
      "A value is trying to be set on a copy of a slice from a DataFrame\n",
      "\n",
      "See the caveats in the documentation: http://pandas.pydata.org/pandas-docs/stable/indexing.html#indexing-view-versus-copy\n",
      "  self._setitem_with_indexer(indexer, value)\n"
     ]
    }
   ],
   "source": [
    "threshold = 10000\n",
    "\n",
    "df['player_at_min'] = np.zeros(df.shape[0])\n",
    "df.player_at_min.loc[df.salary_over_minimum <= threshold] = 1"
   ]
  },
  {
   "cell_type": "markdown",
   "metadata": {},
   "source": [
    "A lot of null values resulted from shifting the salary columns.  Drop rows with null values and reset the index."
   ]
  },
  {
   "cell_type": "code",
   "execution_count": 14,
   "metadata": {
    "collapsed": true
   },
   "outputs": [],
   "source": [
    "df = df.dropna()\n",
    "df = df.reset_index(drop=True)"
   ]
  },
  {
   "cell_type": "markdown",
   "metadata": {
    "collapsed": true
   },
   "source": [
    "The dataframe is ready to be used.  Pickle for future use."
   ]
  },
  {
   "cell_type": "code",
   "execution_count": 17,
   "metadata": {
    "collapsed": true
   },
   "outputs": [],
   "source": [
    "#pickle_filename = 'pickled_pitchers.pkl'\n",
    "#with open(pickle_filename, 'wb') as f_obj:\n",
    "#    pickle.dump(k_df, f_obj)"
   ]
  }
 ],
 "metadata": {
  "kernelspec": {
   "display_name": "Python 3",
   "language": "python",
   "name": "python3"
  },
  "language_info": {
   "codemirror_mode": {
    "name": "ipython",
    "version": 3
   },
   "file_extension": ".py",
   "mimetype": "text/x-python",
   "name": "python",
   "nbconvert_exporter": "python",
   "pygments_lexer": "ipython3",
   "version": "3.6.1"
  }
 },
 "nbformat": 4,
 "nbformat_minor": 2
}
