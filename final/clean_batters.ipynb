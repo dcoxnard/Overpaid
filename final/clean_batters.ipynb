{
 "cells": [
  {
   "cell_type": "markdown",
   "metadata": {},
   "source": [
    "# Clean Batter Data\n",
    "\n",
    "In this notebook, I read the JSON file of batter player data into a pandas DataFrame, and clean the data so it is ready for analysis."
   ]
  },
  {
   "cell_type": "code",
   "execution_count": 1,
   "metadata": {
    "collapsed": true
   },
   "outputs": [],
   "source": [
    "import pickle\n",
    "import pandas as pd\n",
    "import numpy as np\n",
    "%matplotlib inline"
   ]
  },
  {
   "cell_type": "code",
   "execution_count": 2,
   "metadata": {},
   "outputs": [
    {
     "data": {
      "text/plain": [
       "Index(['age', 'avg', 'hr', 'obp', 'ops', 'pa', 'player_name', 'position',\n",
       "       'rbi', 'salary', 'slg', 'team', 'war', 'year'],\n",
       "      dtype='object')"
      ]
     },
     "execution_count": 2,
     "metadata": {},
     "output_type": "execute_result"
    }
   ],
   "source": [
    "df = pd.read_json('data_batters.json')\n",
    "df.columns"
   ]
  },
  {
   "cell_type": "markdown",
   "metadata": {},
   "source": [
    "Salary data was on baseball-reference.com in string form, with '$' signs and commas.  Need to convert the current format into an integer."
   ]
  },
  {
   "cell_type": "code",
   "execution_count": 3,
   "metadata": {
    "collapsed": true
   },
   "outputs": [],
   "source": [
    "df.salary = df.salary.apply(lambda x: int(''.join(x.strip('$ ').split(','))) if x else None)"
   ]
  },
  {
   "cell_type": "markdown",
   "metadata": {},
   "source": [
    "I scraped data on all players, but I am restricting my analysis to player-years from 2000 onwards.  Some other time I would like ot use the extra data for some analysis, but for now I will drop it."
   ]
  },
  {
   "cell_type": "code",
   "execution_count": 4,
   "metadata": {
    "collapsed": true
   },
   "outputs": [],
   "source": [
    "df.drop(df[df.year < 2000].index, inplace=True)"
   ]
  },
  {
   "cell_type": "markdown",
   "metadata": {},
   "source": [
    "Drop rows with no salary data."
   ]
  },
  {
   "cell_type": "code",
   "execution_count": 5,
   "metadata": {
    "collapsed": true
   },
   "outputs": [],
   "source": [
    "df = df.dropna(subset=['salary'])"
   ]
  },
  {
   "cell_type": "markdown",
   "metadata": {},
   "source": [
    "Create a new column with a log transform of player salary."
   ]
  },
  {
   "cell_type": "code",
   "execution_count": 6,
   "metadata": {
    "collapsed": true
   },
   "outputs": [],
   "source": [
    "df['log_salary'] = np.log(df.salary)"
   ]
  },
  {
   "cell_type": "markdown",
   "metadata": {},
   "source": [
    "Some teams have changed names since 2000.  I am dealing with this by remapping old team names to the new names."
   ]
  },
  {
   "cell_type": "code",
   "execution_count": 7,
   "metadata": {
    "collapsed": true
   },
   "outputs": [],
   "source": [
    "replacements = {\n",
    "                \"FLA\": \"MIA\",\n",
    "                \"MON\": \"WSN\",\n",
    "                \"ANA\": \"LAA\",\n",
    "                \"TBD\": \"TBR\",\n",
    "                }\n",
    "\n",
    "df = df.replace({'team': replacements})"
   ]
  },
  {
   "cell_type": "markdown",
   "metadata": {
    "collapsed": true
   },
   "source": [
    "Apply a shift to the salary and log salary columns.  This will give me a the salary the player made the year afer he registered his statistics."
   ]
  },
  {
   "cell_type": "code",
   "execution_count": 9,
   "metadata": {
    "collapsed": true
   },
   "outputs": [],
   "source": [
    "df = df.reset_index(drop=True)\n",
    "df[['next_year_salary', 'next_year_log_salary']] = df.groupby('player_name')[['salary', 'log_salary']].apply(lambda x: x.shift(1))"
   ]
  },
  {
   "cell_type": "markdown",
   "metadata": {
    "collapsed": true
   },
   "source": [
    "Drop the resulting null values."
   ]
  },
  {
   "cell_type": "code",
   "execution_count": 11,
   "metadata": {
    "collapsed": true
   },
   "outputs": [],
   "source": [
    "df = df.dropna()"
   ]
  },
  {
   "cell_type": "markdown",
   "metadata": {},
   "source": [
    "Append information on league minimum salary to each row.  Each year in teh dictionary is associated with the next year's league minimum."
   ]
  },
  {
   "cell_type": "code",
   "execution_count": 12,
   "metadata": {
    "collapsed": true
   },
   "outputs": [],
   "source": [
    "lm_dict = {\n",
    "            2000: 300000,\n",
    "            2001: 300000,\n",
    "            2002: 300000,\n",
    "            2003: 316000,\n",
    "            2004: 327000,\n",
    "            2005: 380000,\n",
    "            2006: 390000,\n",
    "            2007: 400000,\n",
    "            2008: 400000,\n",
    "            2009: 414000,\n",
    "            2010: 480000,\n",
    "            2011: 480000,\n",
    "            2012: 480000,\n",
    "            2013: 507500,\n",
    "            2014: 507500,\n",
    "            2015: 535000,\n",
    "            2016: 545000,\n",
    "            2017: 555000\n",
    "            }\n",
    "\n",
    "df['league_min'] = np.zeros(df.shape[0])\n",
    "\n",
    "for year_, salary_ in lm_dict.items():\n",
    "    df.league_min.loc[df.year == year_] = salary_"
   ]
  },
  {
   "cell_type": "markdown",
   "metadata": {},
   "source": [
    "Compute how much money a player makes above the league minimum, and create a new column."
   ]
  },
  {
   "cell_type": "code",
   "execution_count": 14,
   "metadata": {
    "collapsed": true
   },
   "outputs": [],
   "source": [
    "df['salary_over_minimum'] = df['next_year_salary'] - df['league_min']"
   ]
  },
  {
   "cell_type": "markdown",
   "metadata": {},
   "source": [
    "Most players make the minimum or very close to the minimum.  The analysis might be more interesting if I only look at the subset of players that make more than the minimum.  For now, selecting a threshold of $10,000 over the league minimum, and creating an indicator variable to note if a player is at or close to the minimum."
   ]
  },
  {
   "cell_type": "code",
   "execution_count": 15,
   "metadata": {},
   "outputs": [
    {
     "name": "stderr",
     "output_type": "stream",
     "text": [
      "/Users/davidoxnard/anaconda/lib/python3.6/site-packages/pandas/core/indexing.py:179: SettingWithCopyWarning: \n",
      "A value is trying to be set on a copy of a slice from a DataFrame\n",
      "\n",
      "See the caveats in the documentation: http://pandas.pydata.org/pandas-docs/stable/indexing.html#indexing-view-versus-copy\n",
      "  self._setitem_with_indexer(indexer, value)\n"
     ]
    }
   ],
   "source": [
    "threshold = 10000\n",
    "\n",
    "df['player_at_min'] = np.zeros(df.shape[0])\n",
    "df.player_at_min.loc[df.salary_over_minimum <= threshold] = 1"
   ]
  },
  {
   "cell_type": "markdown",
   "metadata": {
    "collapsed": true
   },
   "source": [
    "Drop any remaining null values and reset the index."
   ]
  },
  {
   "cell_type": "code",
   "execution_count": 17,
   "metadata": {
    "collapsed": true
   },
   "outputs": [],
   "source": [
    "df = df.dropna()\n",
    "df = df.reset_index(drop=True)"
   ]
  },
  {
   "cell_type": "markdown",
   "metadata": {},
   "source": [
    "The DataFrame is ready for use.  Pickle the DataFrame."
   ]
  },
  {
   "cell_type": "code",
   "execution_count": 19,
   "metadata": {
    "collapsed": true
   },
   "outputs": [],
   "source": [
    "#pickle_filename = 'pickles_batters.pkl'\n",
    "#with open(pickle_filename, 'wb') as f_obj:\n",
    "#    pickle.dump(b_df, f_obj)"
   ]
  }
 ],
 "metadata": {
  "kernelspec": {
   "display_name": "Python 3",
   "language": "python",
   "name": "python3"
  },
  "language_info": {
   "codemirror_mode": {
    "name": "ipython",
    "version": 3
   },
   "file_extension": ".py",
   "mimetype": "text/x-python",
   "name": "python",
   "nbconvert_exporter": "python",
   "pygments_lexer": "ipython3",
   "version": "3.6.1"
  }
 },
 "nbformat": 4,
 "nbformat_minor": 2
}
